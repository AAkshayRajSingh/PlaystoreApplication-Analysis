{
 "cells": [
  {
   "cell_type": "markdown",
   "id": "8d2b7e0d",
   "metadata": {},
   "source": [
    "# How do users' sentiments in reviews vary based on the length of the review, and are there any notable differences in terms of the types of issues or features users tend to mention in shorter versus longer reviews? (Attributes: Length, Sentiment)"
   ]
  },
  {
   "cell_type": "code",
   "execution_count": 2,
   "id": "473b7cbc",
   "metadata": {},
   "outputs": [
    {
     "data": {
      "image/png": "[encoded data removed]",
      "text/plain": [
       "<Figure size 432x288 with 1 Axes>"
      ]
     },
     "metadata": {
      "needs_background": "light"
     },
     "output_type": "display_data"
    },
    {
     "name": "stdout",
     "output_type": "stream",
     "text": [
      "Shortest Reviews Issues:\n",
      " [('ok', 48), ('hi', 7), ('nc', 3), ('no', 3), ('wow', 3), ('bad', 3), (':p', 2), ('luv', 2), ('.', 2), ('so', 1)]\n",
      "Longest Reviews Issues:\n",
      " [('i', 585), ('the', 120), ('get', 75), ('game', 75), ('even', 69), ('would', 65), ('like', 64), ('make', 50), ('play', 50), ('also', 48)]\n"
     ]
    }
   ],
   "source": [
    "import pandas as pd\n",
    "import numpy as np\n",
    "import matplotlib.pyplot as plt\n",
    "from collections import Counter\n",
    "\n",
    "# Load the datasets\n",
    "apps_df = pd.read_csv(\"C:/Users/Amina Firdouse/Desktop/masters-EA/Project/googleplaystore.csv\")\n",
    "reviews_df = pd.read_csv(\"C:/Users/Amina Firdouse/Desktop/masters-EA/Project/googleplaystore_user_reviews.csv\")\n",
    "\n",
    "# Clean and preprocess the data\n",
    "apps_df.drop_duplicates(subset=\"App\", inplace=True)\n",
    "apps_df = apps_df[apps_df[\"Rating\"].notna()]\n",
    "apps_df[\"Category\"] = apps_df[\"Category\"].astype(\"category\")\n",
    "reviews_df.dropna(subset=[\"Sentiment\"], inplace=True)\n",
    "\n",
    "# Calculate the length of each review\n",
    "reviews_df[\"Length\"] = reviews_df[\"Translated_Review\"].str.len()\n",
    "\n",
    "# Group the data by review length and calculate average sentiment polarity\n",
    "grouped_df = reviews_df.groupby([\"Length\"]).agg({\"Sentiment_Polarity\": \"mean\"})\n",
    "\n",
    "# Plot the results\n",
    "plt.scatter(grouped_df.index, grouped_df[\"Sentiment_Polarity\"])\n",
    "plt.xlabel(\"Review Length\")\n",
    "plt.ylabel(\"Sentiment Polarity\")\n",
    "plt.show()\n",
    "\n",
    "# Examine the most common issues and features mentioned in the shortest and longest reviews\n",
    "shortest_reviews = reviews_df.nsmallest(100, \"Length\")[\"Translated_Review\"]\n",
    "longest_reviews = reviews_df.nlargest(100, \"Length\")[\"Translated_Review\"]\n",
    "shortest_issues = Counter(\" \".join(shortest_reviews).lower().split()).most_common(10)\n",
    "longest_issues = Counter(\" \".join(longest_reviews).lower().split()).most_common(10)\n",
    "print(\"Shortest Reviews Issues:\\n\", shortest_issues)\n",
    "print(\"Longest Reviews Issues:\\n\", longest_issues)\n"
   ]
  },
  {
   "cell_type": "code",
   "execution_count": null,
   "id": "ef62655c",
   "metadata": {},
   "outputs": [],
   "source": []
  }
 ],
 "metadata": {
  "kernelspec": {
   "display_name": "Python 3 (ipykernel)",
   "language": "python",
   "name": "python3"
  },
  "language_info": {
   "codemirror_mode": {
    "name": "ipython",
    "version": 3
   },
   "file_extension": ".py",
   "mimetype": "text/x-python",
   "name": "python",
   "nbconvert_exporter": "python",
   "pygments_lexer": "ipython3",
   "version": "3.9.12"
  }
 },
 "nbformat": 4,
 "nbformat_minor": 5
}
