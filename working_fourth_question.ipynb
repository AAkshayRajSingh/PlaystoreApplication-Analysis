{
 "cells": [
  {
   "cell_type": "markdown",
   "id": "9ec2031a",
   "metadata": {},
   "source": [
    "# How do users' sentiment polarities and subjectivities vary based on the type of app (free vs. paid), and are there any significant differences in terms of the types of issues or features users tend to mention in reviews for these two types of apps? (Attributes: Type (Free/Paid), Sentiment Polarity"
   ]
  },
  {
   "cell_type": "code",
   "execution_count": 2,
   "id": "5a5ba31c",
   "metadata": {},
   "outputs": [
    {
     "name": "stdout",
     "output_type": "stream",
     "text": [
      "      Polarity  Subjectivity\n",
      "Type                        \n",
      "Free  0.156573      0.493934\n",
      "Paid  0.227947      0.521393\n"
     ]
    },
    {
     "data": {
      "image/png": "[encoded data removed]",
      "text/plain": [
       "<Figure size 576x432 with 1 Axes>"
      ]
     },
     "metadata": {
      "needs_background": "light"
     },
     "output_type": "display_data"
    }
   ],
   "source": [
    "import pandas as pd\n",
    "import numpy as np\n",
    "import matplotlib.pyplot as plt\n",
    "import seaborn as sns\n",
    "import re\n",
    "import string\n",
    "from nltk.corpus import stopwords\n",
    "from nltk.tokenize import word_tokenize\n",
    "from textblob import TextBlob\n",
    "\n",
    "# Load the datasets\n",
    "apps_df = pd.read_csv('C:/Users/Amina Firdouse/Desktop/masters-EA/Project/googleplaystore.csv')\n",
    "reviews_df = pd.read_csv('C:/Users/Amina Firdouse/Desktop/masters-EA/Project/googleplaystore_user_reviews.csv')\n",
    "\n",
    "# Merge the datasets based on the App column\n",
    "merged = pd.merge(apps_df, reviews_df, on='App', how='inner')\n",
    "\n",
    "# Filter out any missing values\n",
    "merged.dropna(subset=['Translated_Review'], inplace=True)\n",
    "\n",
    "# Preprocess the text data\n",
    "def preprocess_text(text):\n",
    "    text = str(text).lower()\n",
    "    text = re.sub(r'\\d+', '', text)\n",
    "    text = text.translate(str.maketrans('', '', string.punctuation))\n",
    "    text = \" \".join([word for word in word_tokenize(text) if word not in stopwords.words('english')])\n",
    "    return text\n",
    "\n",
    "merged['Cleaned_Review'] = merged['Translated_Review'].apply(preprocess_text)\n",
    "merged['Sentiment'] = merged['Translated_Review'].apply(lambda x: TextBlob(str(x)).sentiment)\n",
    "\n",
    "merged['Polarity'] = merged['Sentiment'].apply(lambda x: x[0])\n",
    "merged['Subjectivity'] = merged['Sentiment'].apply(lambda x: x[1])\n",
    "\n",
    "# Group the data by the Type column and calculate the mean sentiment polarity and subjectivity for each type of app\n",
    "grouped = merged.groupby('Type').mean()[['Polarity', 'Subjectivity']]\n",
    "print(grouped)\n",
    "\n",
    "# Plot the average sentiment polarity and subjectivity for each type of app\n",
    "fig, ax = plt.subplots(figsize=(8, 6))\n",
    "grouped.plot(kind='bar', ax=ax)\n",
    "ax.set_title('Sentiment Analysis by App Type')\n",
    "ax.set_xlabel('Type')\n",
    "ax.set_ylabel('Sentiment')\n",
    "plt.show()\n"
   ]
  },
  {
   "cell_type": "code",
   "execution_count": null,
   "id": "de12e887",
   "metadata": {},
   "outputs": [],
   "source": []
  },
  {
   "cell_type": "code",
   "execution_count": null,
   "id": "07df6df6",
   "metadata": {},
   "outputs": [],
   "source": []
  }
 ],
 "metadata": {
  "kernelspec": {
   "display_name": "Python 3 (ipykernel)",
   "language": "python",
   "name": "python3"
  },
  "language_info": {
   "codemirror_mode": {
    "name": "ipython",
    "version": 3
   },
   "file_extension": ".py",
   "mimetype": "text/x-python",
   "name": "python",
   "nbconvert_exporter": "python",
   "pygments_lexer": "ipython3",
   "version": "3.9.12"
  }
 },
 "nbformat": 4,
 "nbformat_minor": 5
}
